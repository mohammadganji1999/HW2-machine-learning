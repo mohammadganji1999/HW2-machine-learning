{
 "cells": [
  {
   "cell_type": "markdown",
   "id": "15b9b2af",
   "metadata": {
    "direction": "rtl"
   },
   "source": [
    "الف:"
   ]
  },
  {
   "cell_type": "code",
   "execution_count": 1,
   "id": "e416f9e0",
   "metadata": {},
   "outputs": [],
   "source": [
    "import numpy as np\n",
    "import pandas as pd\n",
    "import matplotlib.pyplot as plt"
   ]
  },
  {
   "cell_type": "code",
   "execution_count": 2,
   "id": "4988723d",
   "metadata": {},
   "outputs": [],
   "source": [
    "data = pd.read_csv(r\"C:\\Users\\Mohammad\\Desktop\\data.csv\")"
   ]
  },
  {
   "cell_type": "code",
   "execution_count": 3,
   "id": "864ba8cc",
   "metadata": {},
   "outputs": [
    {
     "data": {
      "text/html": [
       "<div>\n",
       "<style scoped>\n",
       "    .dataframe tbody tr th:only-of-type {\n",
       "        vertical-align: middle;\n",
       "    }\n",
       "\n",
       "    .dataframe tbody tr th {\n",
       "        vertical-align: top;\n",
       "    }\n",
       "\n",
       "    .dataframe thead th {\n",
       "        text-align: right;\n",
       "    }\n",
       "</style>\n",
       "<table border=\"1\" class=\"dataframe\">\n",
       "  <thead>\n",
       "    <tr style=\"text-align: right;\">\n",
       "      <th></th>\n",
       "      <th>x</th>\n",
       "      <th>y</th>\n",
       "    </tr>\n",
       "  </thead>\n",
       "  <tbody>\n",
       "    <tr>\n",
       "      <th>0</th>\n",
       "      <td>-10.0</td>\n",
       "      <td>1.2</td>\n",
       "    </tr>\n",
       "    <tr>\n",
       "      <th>1</th>\n",
       "      <td>-9.0</td>\n",
       "      <td>4.2</td>\n",
       "    </tr>\n",
       "    <tr>\n",
       "      <th>2</th>\n",
       "      <td>-8.0</td>\n",
       "      <td>6.7</td>\n",
       "    </tr>\n",
       "    <tr>\n",
       "      <th>3</th>\n",
       "      <td>-7.0</td>\n",
       "      <td>8.3</td>\n",
       "    </tr>\n",
       "    <tr>\n",
       "      <th>4</th>\n",
       "      <td>-6.0</td>\n",
       "      <td>10.6</td>\n",
       "    </tr>\n",
       "    <tr>\n",
       "      <th>5</th>\n",
       "      <td>-5.0</td>\n",
       "      <td>11.7</td>\n",
       "    </tr>\n",
       "    <tr>\n",
       "      <th>6</th>\n",
       "      <td>-4.0</td>\n",
       "      <td>13.5</td>\n",
       "    </tr>\n",
       "    <tr>\n",
       "      <th>7</th>\n",
       "      <td>-3.0</td>\n",
       "      <td>14.5</td>\n",
       "    </tr>\n",
       "    <tr>\n",
       "      <th>8</th>\n",
       "      <td>-2.0</td>\n",
       "      <td>15.7</td>\n",
       "    </tr>\n",
       "    <tr>\n",
       "      <th>9</th>\n",
       "      <td>-1.0</td>\n",
       "      <td>16.1</td>\n",
       "    </tr>\n",
       "    <tr>\n",
       "      <th>10</th>\n",
       "      <td>0.0</td>\n",
       "      <td>16.6</td>\n",
       "    </tr>\n",
       "    <tr>\n",
       "      <th>11</th>\n",
       "      <td>1.0</td>\n",
       "      <td>16.0</td>\n",
       "    </tr>\n",
       "    <tr>\n",
       "      <th>12</th>\n",
       "      <td>2.0</td>\n",
       "      <td>15.4</td>\n",
       "    </tr>\n",
       "    <tr>\n",
       "      <th>13</th>\n",
       "      <td>3.0</td>\n",
       "      <td>14.4</td>\n",
       "    </tr>\n",
       "    <tr>\n",
       "      <th>14</th>\n",
       "      <td>4.0</td>\n",
       "      <td>14.2</td>\n",
       "    </tr>\n",
       "    <tr>\n",
       "      <th>15</th>\n",
       "      <td>5.0</td>\n",
       "      <td>12.7</td>\n",
       "    </tr>\n",
       "    <tr>\n",
       "      <th>16</th>\n",
       "      <td>6.0</td>\n",
       "      <td>10.3</td>\n",
       "    </tr>\n",
       "    <tr>\n",
       "      <th>17</th>\n",
       "      <td>7.0</td>\n",
       "      <td>8.6</td>\n",
       "    </tr>\n",
       "    <tr>\n",
       "      <th>18</th>\n",
       "      <td>8.0</td>\n",
       "      <td>6.1</td>\n",
       "    </tr>\n",
       "    <tr>\n",
       "      <th>19</th>\n",
       "      <td>9.0</td>\n",
       "      <td>3.9</td>\n",
       "    </tr>\n",
       "    <tr>\n",
       "      <th>20</th>\n",
       "      <td>10.0</td>\n",
       "      <td>2.1</td>\n",
       "    </tr>\n",
       "  </tbody>\n",
       "</table>\n",
       "</div>"
      ],
      "text/plain": [
       "       x     y\n",
       "0  -10.0   1.2\n",
       "1   -9.0   4.2\n",
       "2   -8.0   6.7\n",
       "3   -7.0   8.3\n",
       "4   -6.0  10.6\n",
       "5   -5.0  11.7\n",
       "6   -4.0  13.5\n",
       "7   -3.0  14.5\n",
       "8   -2.0  15.7\n",
       "9   -1.0  16.1\n",
       "10   0.0  16.6\n",
       "11   1.0  16.0\n",
       "12   2.0  15.4\n",
       "13   3.0  14.4\n",
       "14   4.0  14.2\n",
       "15   5.0  12.7\n",
       "16   6.0  10.3\n",
       "17   7.0   8.6\n",
       "18   8.0   6.1\n",
       "19   9.0   3.9\n",
       "20  10.0   2.1"
      ]
     },
     "execution_count": 3,
     "metadata": {},
     "output_type": "execute_result"
    }
   ],
   "source": [
    "data"
   ]
  },
  {
   "cell_type": "code",
   "execution_count": 4,
   "id": "a5f3e49c",
   "metadata": {},
   "outputs": [
    {
     "name": "stdout",
     "output_type": "stream",
     "text": [
      "<class 'pandas.core.frame.DataFrame'>\n",
      "RangeIndex: 21 entries, 0 to 20\n",
      "Data columns (total 2 columns):\n",
      " #   Column  Non-Null Count  Dtype  \n",
      "---  ------  --------------  -----  \n",
      " 0   x       21 non-null     float64\n",
      " 1   y       21 non-null     float64\n",
      "dtypes: float64(2)\n",
      "memory usage: 464.0 bytes\n"
     ]
    }
   ],
   "source": [
    "data.info()"
   ]
  },
  {
   "cell_type": "code",
   "execution_count": 8,
   "id": "0af60504",
   "metadata": {},
   "outputs": [
    {
     "data": {
      "image/png": "[encoded data removed]",
      "text/plain": [
       "<Figure size 360x360 with 1 Axes>"
      ]
     },
     "metadata": {
      "needs_background": "light"
     },
     "output_type": "display_data"
    }
   ],
   "source": [
    "X = data['x'].to_numpy()\n",
    "Y = data['y'].to_numpy()\n",
    "\n",
    "fig = plt.figure(1, figsize=(5,5))\n",
    "plt.scatter(X, Y)\n",
    "plt.show()"
   ]
  },
  {
   "cell_type": "markdown",
   "id": "f9b74828",
   "metadata": {},
   "source": [
    "ب:"
   ]
  },
  {
   "cell_type": "code",
   "execution_count": 9,
   "id": "a43c5789",
   "metadata": {},
   "outputs": [],
   "source": [
    "def Gaussian(x : np.array, a, miu, sigma):\n",
    "    return a * np.exp(-(x - miu) ** 2 / 2 * sigma ** 2)\n",
    "    "
   ]
  },
  {
   "cell_type": "markdown",
   "id": "b7df7dd3",
   "metadata": {},
   "source": [
    "ج:"
   ]
  },
  {
   "cell_type": "code",
   "execution_count": 11,
   "id": "68e0756d",
   "metadata": {},
   "outputs": [
    {
     "data": {
      "image/png": "[encoded data removed]",
      "text/plain": [
       "<Figure size 360x360 with 1 Axes>"
      ]
     },
     "metadata": {
      "needs_background": "light"
     },
     "output_type": "display_data"
    }
   ],
   "source": [
    "y_pred = Gaussian(X,18,0.1,0.3)\n",
    "\n",
    "fig = plt.figure(1, figsize=(5,5))\n",
    "plt.scatter(X, y_pred)\n",
    "plt.show()"
   ]
  },
  {
   "cell_type": "code",
   "execution_count": 12,
   "id": "d7a8c425",
   "metadata": {},
   "outputs": [
    {
     "data": {
      "image/png": "[encoded data removed]",
      "text/plain": [
       "<Figure size 360x360 with 1 Axes>"
      ]
     },
     "metadata": {
      "needs_background": "light"
     },
     "output_type": "display_data"
    }
   ],
   "source": [
    "y_pred = Gaussian(X,16,0.1,0.2)\n",
    "\n",
    "fig = plt.figure(1, figsize=(5,5))\n",
    "plt.scatter(X, y_pred)\n",
    "plt.show()"
   ]
  },
  {
   "cell_type": "code",
   "execution_count": 13,
   "id": "34424289",
   "metadata": {},
   "outputs": [
    {
     "name": "stdout",
     "output_type": "stream",
     "text": [
      "3.046506845866517\n"
     ]
    }
   ],
   "source": [
    "error = ((y_pred - Y) ** 2).mean()\n",
    "print(error)"
   ]
  },
  {
   "cell_type": "markdown",
   "id": "44eb95c7",
   "metadata": {},
   "source": [
    "د:"
   ]
  },
  {
   "cell_type": "code",
   "execution_count": 15,
   "id": "7a539af4",
   "metadata": {},
   "outputs": [],
   "source": [
    "from scipy.optimize import curve_fit"
   ]
  },
  {
   "cell_type": "code",
   "execution_count": 16,
   "id": "acc51e7e",
   "metadata": {},
   "outputs": [
    {
     "name": "stdout",
     "output_type": "stream",
     "text": [
      "[16.93506325  0.05018162  0.17743319]\n"
     ]
    }
   ],
   "source": [
    "param, param_cov = curve_fit(Gaussian, X, Y)\n",
    "print(param)"
   ]
  },
  {
   "cell_type": "code",
   "execution_count": 17,
   "id": "2cc46915",
   "metadata": {},
   "outputs": [
    {
     "data": {
      "image/png": "[encoded data removed]",
      "text/plain": [
       "<Figure size 360x360 with 1 Axes>"
      ]
     },
     "metadata": {
      "needs_background": "light"
     },
     "output_type": "display_data"
    }
   ],
   "source": [
    "y_pred2 = Gaussian(X,param[0],param[1],param[2])\n",
    "\n",
    "fig = plt.figure(1, figsize=(5,5))\n",
    "plt.scatter(X, y_pred2)\n",
    "plt.show()"
   ]
  },
  {
   "cell_type": "code",
   "execution_count": 18,
   "id": "f5ef0e93",
   "metadata": {},
   "outputs": [
    {
     "name": "stdout",
     "output_type": "stream",
     "text": [
      "0.7105533649038495\n"
     ]
    }
   ],
   "source": [
    "error2 = ((y_pred2 - Y) ** 2).mean()\n",
    "print(error2)"
   ]
  },
  {
   "cell_type": "markdown",
   "id": "44498881",
   "metadata": {
    "direction": "rtl"
   },
   "source": [
    "همانطور که مشاهده می کنیم خطای که در این حالت به دست می آید نسبت به حالت قبل کمتر است در حالت قبل خطا برابر با 3.046506845866517 بود که در این قسمت خطا کاهش یافته و برابر با 0.7105533649038495 شده است.پس نتیجه میگیرم پارامتر ها دقیق تر از قبل هستند. "
   ]
  },
  {
   "cell_type": "markdown",
   "id": "fe38030d",
   "metadata": {},
   "source": [
    "ه:"
   ]
  },
  {
   "cell_type": "code",
   "execution_count": 19,
   "id": "b48eadb0",
   "metadata": {},
   "outputs": [],
   "source": [
    "def cos(x : np.array, a, b):\n",
    "    return a * np.cos(b*x)"
   ]
  },
  {
   "cell_type": "code",
   "execution_count": 20,
   "id": "77abf9b4",
   "metadata": {},
   "outputs": [
    {
     "name": "stdout",
     "output_type": "stream",
     "text": [
      "[0.68226122 0.85834612]\n"
     ]
    }
   ],
   "source": [
    "param2, param_cov2 = curve_fit(cos, X, Y)\n",
    "print(param2)"
   ]
  },
  {
   "cell_type": "code",
   "execution_count": 21,
   "id": "e4baedbc",
   "metadata": {},
   "outputs": [
    {
     "data": {
      "image/png": "[encoded data removed]",
      "text/plain": [
       "<Figure size 360x360 with 1 Axes>"
      ]
     },
     "metadata": {
      "needs_background": "light"
     },
     "output_type": "display_data"
    }
   ],
   "source": [
    "ypred2 = cos(X,param2[0],param2[1])\n",
    "\n",
    "fig = plt.figure(1, figsize=(5,5))\n",
    "plt.scatter(X, ypred2)\n",
    "plt.show()"
   ]
  },
  {
   "cell_type": "code",
   "execution_count": 22,
   "id": "8e08bcdd",
   "metadata": {},
   "outputs": [
    {
     "name": "stdout",
     "output_type": "stream",
     "text": [
      "135.78758804144437\n"
     ]
    }
   ],
   "source": [
    "error3 = ((ypred2 - Y) ** 2).mean()\n",
    "print(error3)"
   ]
  },
  {
   "cell_type": "markdown",
   "id": "2663e3e8",
   "metadata": {
    "direction": "rtl"
   },
   "source": [
    "همانطور که مشاهده میکنیم با استفاده از این پارامتر ها دارای خطای زیادی هستیم و طبق شکل حاصل از پیش بینی پارامتر ها متوجه میشیم که این پارامتر ها به درستی پیش بینی نشده اند و دارای خطای زیادی هستند."
   ]
  },
  {
   "cell_type": "markdown",
   "id": "69e0533b",
   "metadata": {},
   "source": [
    "و:"
   ]
  },
  {
   "cell_type": "code",
   "execution_count": 59,
   "id": "7951f412",
   "metadata": {},
   "outputs": [
    {
     "data": {
      "image/png": "[encoded data removed]",
      "text/plain": [
       "<Figure size 360x360 with 1 Axes>"
      ]
     },
     "metadata": {
      "needs_background": "light"
     },
     "output_type": "display_data"
    }
   ],
   "source": [
    "ypred3 = cos(X, 16.5, 0.15)\n",
    "\n",
    "fig = plt.figure(1, figsize=(5,5))\n",
    "plt.scatter(X, ypred3)\n",
    "plt.show()"
   ]
  },
  {
   "cell_type": "code",
   "execution_count": 60,
   "id": "4ae6cee6",
   "metadata": {},
   "outputs": [
    {
     "name": "stdout",
     "output_type": "stream",
     "text": [
      "0.17260371967661425\n"
     ]
    }
   ],
   "source": [
    "error4 = ((ypred3 - Y) ** 2).mean()\n",
    "print(error4)"
   ]
  },
  {
   "cell_type": "markdown",
   "id": "1c362f48",
   "metadata": {
    "direction": "rtl"
   },
   "source": [
    "همانطور که مشاهده میکنیم مقدار خطا نسبت به حالت قبل خیلی کمتر شده است پس یعنی این پارامتر ها بهتر از حالت قبل تعیین شده اند."
   ]
  }
 ],
 "metadata": {
  "kernelspec": {
   "display_name": "Python 3 (ipykernel)",
   "language": "python",
   "name": "python3"
  },
  "language_info": {
   "codemirror_mode": {
    "name": "ipython",
    "version": 3
   },
   "file_extension": ".py",
   "mimetype": "text/x-python",
   "name": "python",
   "nbconvert_exporter": "python",
   "pygments_lexer": "ipython3",
   "version": "3.7.0"
  }
 },
 "nbformat": 4,
 "nbformat_minor": 5
}
